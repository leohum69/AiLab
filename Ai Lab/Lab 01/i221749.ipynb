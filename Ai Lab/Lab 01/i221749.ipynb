{
 "cells": [
  {
   "cell_type": "code",
   "execution_count": 55,
   "metadata": {},
   "outputs": [
    {
     "name": "stdout",
     "output_type": "stream",
     "text": [
      "!dlroW ,olleH\n"
     ]
    }
   ],
   "source": [
    "def reverse_string(s):\n",
    "    lol = \"\"\n",
    "    for i in s:\n",
    "        lol = i + lol\n",
    "    return lol\n",
    "\n",
    "print(reverse_string(\"Hello, World!\"))"
   ]
  },
  {
   "cell_type": "code",
   "execution_count": 56,
   "metadata": {},
   "outputs": [
    {
     "data": {
      "text/plain": [
       "[0, 1]"
      ]
     },
     "execution_count": 56,
     "metadata": {},
     "output_type": "execute_result"
    }
   ],
   "source": [
    "def two_sum(nums,target):\n",
    "    for i in range(0,len(nums)):\n",
    "        for j in range(i+1,len(nums)):\n",
    "            if nums[i] + nums[j] == target:\n",
    "                return [i,j]\n",
    "            \n",
    "\n",
    "two_sum([2,7,11,15],9)"
   ]
  },
  {
   "cell_type": "code",
   "execution_count": 57,
   "metadata": {},
   "outputs": [
    {
     "name": "stdout",
     "output_type": "stream",
     "text": [
      "[1, 2, 'Fizz', 4, 'Buzz', 'Fizz', 7, 8, 'Fizz', 'Buzz', 11, 'Fizz', 13, 14, 'FizzBuzz']\n"
     ]
    }
   ],
   "source": [
    "def fizz_buzz(n):\n",
    "    lol = []\n",
    "    for i in range(1,n+1):\n",
    "        if i%3 == 0 and i%5==0:\n",
    "            lol.append(\"FizzBuzz\") \n",
    "        elif i%3==0:\n",
    "            lol.append(\"Fizz\")\n",
    "        elif i%5==0:\n",
    "            lol.append(\"Buzz\")\n",
    "        else:\n",
    "            lol.append(i)\n",
    "    \n",
    "    return lol\n",
    "\n",
    "print(fizz_buzz(15))"
   ]
  },
  {
   "cell_type": "code",
   "execution_count": 65,
   "metadata": {},
   "outputs": [
    {
     "name": "stdout",
     "output_type": "stream",
     "text": [
      "False\n"
     ]
    }
   ],
   "source": [
    "def is_valid_parentheses(s):\n",
    "    lol = []\n",
    "\n",
    "    for i in s:\n",
    "        if i == '(' or i == '{' or i == '[':\n",
    "            lol.append(i)\n",
    "        elif len(lol) == 0:\n",
    "            return False\n",
    "        elif i == ')' and lol[-1] == '(':\n",
    "            lol.pop()\n",
    "        elif i == '}' and lol[-1] == '{':\n",
    "            lol.pop()\n",
    "        elif i == ']' and lol[-1] == '[':\n",
    "            lol.pop()\n",
    "        else:\n",
    "            return False\n",
    "    return True\n",
    "\n",
    "print(is_valid_parentheses(\"()}{[]\"))\n",
    "\n"
   ]
  },
  {
   "cell_type": "code",
   "execution_count": 59,
   "metadata": {},
   "outputs": [
    {
     "name": "stdout",
     "output_type": "stream",
     "text": [
      "[1, 2, 3, 4, 5, 6]\n"
     ]
    }
   ],
   "source": [
    "def merge_sorted_array(nums1,nums2):\n",
    "    bariwali = []\n",
    "    i = 0\n",
    "    j = 0\n",
    "\n",
    "    while i < len(nums1) and j < len(nums2):\n",
    "        if nums1[i] < nums2[j]:\n",
    "            bariwali.append(nums1[i])\n",
    "            i+=1\n",
    "        else:\n",
    "            bariwali.append(nums2[j])\n",
    "            j+=1\n",
    "        \n",
    "\n",
    "    if i == len(nums1):\n",
    "        bariwali = bariwali + nums2[j:]\n",
    "    else:\n",
    "        bariwali = bariwali + nums1[i:]\n",
    "\n",
    "    return bariwali\n",
    "\n",
    "print(merge_sorted_array([1,3,5],[2,4,6]))\n"
   ]
  },
  {
   "cell_type": "code",
   "execution_count": 60,
   "metadata": {},
   "outputs": [
    {
     "name": "stdout",
     "output_type": "stream",
     "text": [
      "True\n"
     ]
    }
   ],
   "source": [
    "def is_palindrome(s):\n",
    "    return s == reverse_string(s)\n",
    "\n",
    "print(is_palindrome(\"racecar\"))"
   ]
  },
  {
   "cell_type": "code",
   "execution_count": 61,
   "metadata": {},
   "outputs": [
    {
     "name": "stdout",
     "output_type": "stream",
     "text": [
      "6\n"
     ]
    }
   ],
   "source": [
    "def max_subarray_sum(nums):\n",
    "    lol = nums[0]\n",
    "    lol2 = nums[0]\n",
    "\n",
    "    for i in range(1,len(nums)):\n",
    "        lol = max(nums[i],lol+nums[i])\n",
    "\n",
    "        lol2 = max(lol2,lol)\n",
    "\n",
    "    return lol2\n",
    "\n",
    "print(max_subarray_sum([-2, 1, -3, 4, -1, 2, 1, -5, 4]))\n",
    "\n"
   ]
  },
  {
   "cell_type": "code",
   "execution_count": 69,
   "metadata": {},
   "outputs": [
    {
     "name": "stdout",
     "output_type": "stream",
     "text": [
      "{3: 2, 2: 1}\n",
      "3\n"
     ]
    }
   ],
   "source": [
    "def majority_element(nums):\n",
    "\n",
    "    di = {}\n",
    "\n",
    "    for i in nums:\n",
    "        if i in di:\n",
    "            di[i] += 1\n",
    "        else:\n",
    "            di[i] = 1\n",
    "\n",
    "    lenth = len(nums)\n",
    "\n",
    "\n",
    "    for i,j in di.items():\n",
    "        if j > lenth//2:\n",
    "            return i\n",
    "\n",
    "print(majority_element([3, 2, 3]))"
   ]
  },
  {
   "cell_type": "code",
   "execution_count": 66,
   "metadata": {},
   "outputs": [
    {
     "name": "stdout",
     "output_type": "stream",
     "text": [
      "True\n"
     ]
    }
   ],
   "source": [
    "def are_anagrams(s1, s2):\n",
    "    return sorted(s1) == sorted(s2)\n",
    "\n",
    "print(are_anagrams(\"listen\", \"silent\"))"
   ]
  },
  {
   "cell_type": "code",
   "execution_count": 68,
   "metadata": {},
   "outputs": [
    {
     "name": "stdout",
     "output_type": "stream",
     "text": [
      "False\n"
     ]
    }
   ],
   "source": [
    "def find_duplicates(nums):\n",
    "    for i in nums:\n",
    "        if nums.count(i) > 1:\n",
    "            return False\n",
    "    return True    \n",
    "\n",
    "print(find_duplicates([1, 2, 3, 1])) "
   ]
  }
 ],
 "metadata": {
  "kernelspec": {
   "display_name": "Python 3",
   "language": "python",
   "name": "python3"
  },
  "language_info": {
   "codemirror_mode": {
    "name": "ipython",
    "version": 3
   },
   "file_extension": ".py",
   "mimetype": "text/x-python",
   "name": "python",
   "nbconvert_exporter": "python",
   "pygments_lexer": "ipython3",
   "version": "3.13.1"
  }
 },
 "nbformat": 4,
 "nbformat_minor": 2
}
