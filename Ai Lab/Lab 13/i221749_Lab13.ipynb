{
 "cells": [
  {
   "cell_type": "code",
   "execution_count": 1,
   "id": "4f154f4d",
   "metadata": {},
   "outputs": [],
   "source": [
    "import pandas as pd\n",
    "import numpy as np\n",
    "import random\n",
    "import matplotlib.pyplot as plt"
   ]
  },
  {
   "cell_type": "code",
   "execution_count": 2,
   "id": "41317e65",
   "metadata": {},
   "outputs": [],
   "source": [
    "df = pd.read_csv(\"Attacks.csv\")\n",
    "\n",
    "df.drop(columns=[\"Date_reported\",],inplace=True)\n",
    "\n",
    "df.fillna(0,inplace=True)\n",
    "\n",
    "\n",
    "df[\"Sever_Location\"] = df[\"Sever_Location\"].map({\"Asia\": 1,\"Africa\":2,\"Europe\":3,\"Oceania\":4,\"North America\":5,\"South America\":6,\"island\":7,\"Uncategorized\":8})\n",
    "\n",
    "# df"
   ]
  },
  {
   "cell_type": "code",
   "execution_count": 3,
   "id": "4a2025ab",
   "metadata": {},
   "outputs": [],
   "source": [
    "# weights = [random.randint(0,100),random.randint(0,100),random.randint(0,100),random.randint(0,100)]\n",
    "bias = 0.01"
   ]
  },
  {
   "cell_type": "code",
   "execution_count": 4,
   "id": "1ebcf5ff",
   "metadata": {},
   "outputs": [],
   "source": [
    "X = df[['Sever_Location','Packet_Size', 'No._of_Packets', 'Attack_Packets']].values\n",
    "y = df['Total_Loss(Y)'].values\n"
   ]
  },
  {
   "cell_type": "code",
   "execution_count": 5,
   "id": "7010087a",
   "metadata": {},
   "outputs": [],
   "source": [
    "X_mean = np.mean(X, axis=0)\n",
    "X_std = np.std(X, axis=0)\n",
    "X = (X - X_mean) / X_std\n",
    "m = X.shape[0]\n",
    "X = np.hstack((np.ones((m, 1)), X))\n",
    "weights = np.random.rand(X.shape[1])\n",
    "\n",
    "# print(X)\n",
    "\n",
    "# print(X.shape[1])"
   ]
  },
  {
   "cell_type": "code",
   "execution_count": 6,
   "id": "d57db320",
   "metadata": {},
   "outputs": [],
   "source": [
    "def compute_cost(X, y, weights):\n",
    "    m = len(y)\n",
    "    predictions = np.dot(X, weights)\n",
    "    cost = (1/(2*m)) * np.sum((predictions - y)**2)\n",
    "    return cost"
   ]
  },
  {
   "cell_type": "code",
   "execution_count": 7,
   "id": "aeff2515",
   "metadata": {},
   "outputs": [],
   "source": [
    "def gradient_descent(X, y, weights, learning_rate, iterations, print_every=100):\n",
    "    m = len(y)\n",
    "    cost_history = []\n",
    "\n",
    "    for i in range(1, iterations+1):\n",
    "        predictions = np.dot(X, weights)\n",
    "        errors = predictions - y\n",
    "        gradient = (1/m) * np.dot(X.T, errors)\n",
    "        weights -= learning_rate * gradient\n",
    "        cost = compute_cost(X, y, weights)\n",
    "        cost_history.append(cost)\n",
    "\n",
    "        if i % print_every == 0 or i == 1:\n",
    "            print(f\"Iteration {i}: Cost = {cost:.6f}\")\n",
    "\n",
    "    return weights, cost_history"
   ]
  },
  {
   "cell_type": "code",
   "execution_count": 8,
   "id": "035356c3",
   "metadata": {},
   "outputs": [
    {
     "name": "stdout",
     "output_type": "stream",
     "text": [
      "Iteration 1: Cost = 5340900838.609377\n",
      "Iteration 100: Cost = 2281880917.727115\n",
      "Iteration 200: Cost = 1936442228.311643\n",
      "Iteration 300: Cost = 1884310487.960556\n",
      "Iteration 400: Cost = 1875138636.795605\n",
      "Iteration 500: Cost = 1873423889.220295\n",
      "Iteration 600: Cost = 1873094707.455985\n",
      "Iteration 700: Cost = 1873030584.659767\n",
      "Iteration 800: Cost = 1873017968.144140\n",
      "Iteration 900: Cost = 1873015465.835239\n",
      "Iteration 1000: Cost = 1873014965.974307\n",
      "\n",
      "Minimum Cost after 1000 iterations: 1873014965.974307\n"
     ]
    }
   ],
   "source": [
    "iterations = 1000\n",
    "final_weights, cost_history = gradient_descent(X, y, weights, 0.01, iterations)\n",
    "\n",
    "print(f\"\\nMinimum Cost after {iterations} iterations: {cost_history[-1]:.6f}\")"
   ]
  },
  {
   "cell_type": "code",
   "execution_count": 9,
   "id": "7b1fcd81",
   "metadata": {},
   "outputs": [
    {
     "data": {
      "image/png": "[encoded data removed]",
      "text/plain": [
       "<Figure size 640x480 with 1 Axes>"
      ]
     },
     "metadata": {},
     "output_type": "display_data"
    }
   ],
   "source": [
    "plt.plot(range(1, iterations+1), cost_history, color='blue')\n",
    "plt.xlabel('Iteration')\n",
    "plt.ylabel('Cost')\n",
    "plt.title('Cost Reduction over Time')\n",
    "plt.grid(True)\n",
    "plt.show()"
   ]
  }
 ],
 "metadata": {
  "kernelspec": {
   "display_name": "Python 3",
   "language": "python",
   "name": "python3"
  },
  "language_info": {
   "codemirror_mode": {
    "name": "ipython",
    "version": 3
   },
   "file_extension": ".py",
   "mimetype": "text/x-python",
   "name": "python",
   "nbconvert_exporter": "python",
   "pygments_lexer": "ipython3",
   "version": "3.13.1"
  }
 },
 "nbformat": 4,
 "nbformat_minor": 5
}
