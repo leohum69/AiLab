{
 "cells": [
  {
   "cell_type": "markdown",
   "id": "4d9e0985",
   "metadata": {},
   "source": [
    "Created by Ahsan Shakeel Malik\n",
    "ahsan.shakeel@isb.nu.edu.pk\n",
    "\n",
    "# Lab 02\n",
    "\n",
    "### Revision:\n",
    "* Introduction\n",
    "* Variables and Data Types\n",
    "* Reserved Words\n",
    "* Assignment Operator\n",
    "* Type Command\n",
    "* Arithmetic Operators\n",
    "* Comparison Operators\n",
    "* Strings\n",
    "* String Functions\n",
    "* Functions\n",
    "### New Concepts\n",
    "* List Functions\n",
    "* List Comprehensions\n",
    "* 2D Lists\n",
    "* Exercises"
   ]
  },
  {
   "cell_type": "markdown",
   "id": "3e54c57e",
   "metadata": {},
   "source": [
    "## Introduction\n",
    "In this lab, you'll learn about essential concepts like variables, operators, strings, and lists in Python. These fundamental concepts form the building blocks of programming and are crucial to understanding more complex topics."
   ]
  },
  {
   "cell_type": "markdown",
   "id": "ff59858c",
   "metadata": {},
   "source": [
    "## Variables and Data Types\n",
    "* int: Integer numbers\n",
    "* float: Floating-point numbers\n",
    "* str: Strings (text)\n",
    "* bool: Boolean values (True or False)"
   ]
  },
  {
   "cell_type": "code",
   "execution_count": 1,
   "id": "a7041f86",
   "metadata": {},
   "outputs": [
    {
     "name": "stdout",
     "output_type": "stream",
     "text": [
      "this is my data 234 True 68.78\n"
     ]
    }
   ],
   "source": [
    "data=\"this is my data\"\n",
    "id_no=234\n",
    "present=True\n",
    "percentage=68.78\n",
    "\n",
    "print(data, id_no, present, percentage)"
   ]
  },
  {
   "cell_type": "markdown",
   "id": "44912c74",
   "metadata": {},
   "source": [
    "## Reserved Words\n",
    "Reserved words are words that have special meanings in Python and cannot be used as variable names. Examples include if, else, while, for, and more."
   ]
  },
  {
   "cell_type": "markdown",
   "id": "cea61688",
   "metadata": {},
   "source": [
    "## Assignment Operator\n",
    "The assignment operator (=) is used to assign a value to a variable."
   ]
  },
  {
   "cell_type": "markdown",
   "id": "68752892",
   "metadata": {},
   "source": [
    "## Type Function\n",
    "The type() function is used to determine the data type of a variable."
   ]
  },
  {
   "cell_type": "code",
   "execution_count": 2,
   "id": "8789cf27",
   "metadata": {},
   "outputs": [
    {
     "name": "stdout",
     "output_type": "stream",
     "text": [
      "<class 'str'>\n"
     ]
    }
   ],
   "source": [
    "x=type(data)\n",
    "print(x)"
   ]
  },
  {
   "cell_type": "markdown",
   "id": "a2ba6b74",
   "metadata": {},
   "source": [
    "## Arithmetic Operators\n",
    "Arithmetic operators perform mathematical operations:\n",
    "\n",
    "* +, -, *, /: Addition, subtraction, multiplication, division\n",
    "* %: Modulus (remainder)\n",
    "* **: Exponentiation (power)\n",
    "* //: Floor division (division with the result rounded down)"
   ]
  },
  {
   "cell_type": "code",
   "execution_count": 3,
   "id": "7fe99ed9",
   "metadata": {},
   "outputs": [
    {
     "name": "stdout",
     "output_type": "stream",
     "text": [
      "134 279841 1\n"
     ]
    }
   ],
   "source": [
    "x=56\n",
    "y=78\n",
    "sum=x+y\n",
    "exp=23 ** 4\n",
    "fd=y//x\n",
    "\n",
    "print(sum, exp,fd)"
   ]
  },
  {
   "cell_type": "markdown",
   "id": "fda10e1d",
   "metadata": {},
   "source": [
    "## Comparison Operators\n",
    "Comparison operators are used to compare values:\n",
    "\n",
    "* ==: Equal to\n",
    "* !=: Not equal to\n",
    "* <, >, <=, >=: Less than, greater than, less than or equal to, greater than or equal to"
   ]
  },
  {
   "cell_type": "markdown",
   "id": "bd430187",
   "metadata": {},
   "source": [
    "## Strings\n",
    "Strings are sequences of characters enclosed in single (' ') or double (\" \") quotes.\n",
    "\n",
    "String Functions:\n",
    "\n",
    "* len(): Returns the length of a string.\n",
    "* replace(): Replaces a substring with another substring.\n",
    "* Indexing: Access individual characters using index values.\n",
    "* Slicing: Extract a substring using slicing notation, e.g., [start:end]."
   ]
  },
  {
   "cell_type": "code",
   "execution_count": 4,
   "id": "50920c20",
   "metadata": {},
   "outputs": [
    {
     "name": "stdout",
     "output_type": "stream",
     "text": [
      "Ammar\n",
      "length =  5\n",
      "mar\n",
      "r\n"
     ]
    }
   ],
   "source": [
    "name=\"Ammar\"\n",
    "name=name.replace('h','H')\n",
    "\n",
    "print(name)\n",
    "print(\"length = \", len(name))\n",
    "print(name[2:])\n",
    "print(name[4])"
   ]
  },
  {
   "cell_type": "markdown",
   "id": "60429288",
   "metadata": {},
   "source": [
    "## 1D Lists\n",
    "Lists are ordered collections of items. Lists can contain elements of different types.\n",
    "\n",
    "List Functions:\n",
    "\n",
    "* range(): Generates a sequence of numbers.\n",
    "* append(): Adds an item to the end of the list.\n",
    "* insert(): Inserts an item at a specific index.\n",
    "* Indexing: Access individual items using index values.\n",
    "* Slicing: Extract a sublist using slicing notation, e.g., [start:end]."
   ]
  },
  {
   "cell_type": "code",
   "execution_count": 5,
   "id": "abf7f1f4",
   "metadata": {},
   "outputs": [
    {
     "name": "stdout",
     "output_type": "stream",
     "text": [
      "[23, 'data', True]\n",
      "[23, 'data', False, True]\n",
      "list =  [23, 'data', False, True, 'minimum']\n",
      "[23, 'data']\n"
     ]
    }
   ],
   "source": [
    "lst=[]\n",
    "lst=[23,\"data\",True]\n",
    "print(lst)\n",
    "\n",
    "lst.insert(2,False)\n",
    "print(lst)\n",
    "\n",
    "lst.append(\"minimum\")\n",
    "print(\"list = \", lst)\n",
    "print(lst[:2])"
   ]
  },
  {
   "cell_type": "markdown",
   "id": "1ddcedd4-f0e9-436f-a963-a2ee152d387e",
   "metadata": {},
   "source": [
    "## Functions\n",
    "Python functions are defined using the def keyword. For example:"
   ]
  },
  {
   "cell_type": "code",
   "execution_count": 6,
   "id": "e51f9c2e-4840-43e1-8fbc-399e31902a1c",
   "metadata": {},
   "outputs": [],
   "source": [
    "def sign(x):\n",
    "    if x > 0:\n",
    "        return 'positive'\n",
    "    elif x < 0:\n",
    "        return 'negative'\n",
    "    else:\n",
    "        return 'zero'"
   ]
  },
  {
   "cell_type": "code",
   "execution_count": 7,
   "id": "01e75186-8ce8-496b-a2d9-87660cfb3826",
   "metadata": {},
   "outputs": [
    {
     "name": "stdout",
     "output_type": "stream",
     "text": [
      "negative\n"
     ]
    }
   ],
   "source": [
    "print(sign(-5))"
   ]
  },
  {
   "cell_type": "markdown",
   "id": "2f197c37-799e-476a-a4b1-ade43d2278d8",
   "metadata": {},
   "source": [
    "We will often define functions to take optional keyword arguments (default arguments), like this:"
   ]
  },
  {
   "cell_type": "code",
   "execution_count": 8,
   "id": "763f7931-3298-4c22-82a1-07316c7bb4a7",
   "metadata": {},
   "outputs": [
    {
     "name": "stdout",
     "output_type": "stream",
     "text": [
      "Hellllllllo, Muhammad!\n",
      "HELLO, AMMAR!\n"
     ]
    }
   ],
   "source": [
    "def hello(name, loud=False):\n",
    "    if loud:\n",
    "        print('HELLO, {}'.format(name.upper()))\n",
    "    else:\n",
    "        print('Hellllllllo, {}!'.format(name))\n",
    "\n",
    "hello('Muhammad')\n",
    "hello('Ammar!', loud=True)"
   ]
  },
  {
   "cell_type": "code",
   "execution_count": 9,
   "id": "30f8d780-88f2-4c42-a410-a01d092f172f",
   "metadata": {},
   "outputs": [
    {
     "data": {
      "text/plain": [
       "36"
      ]
     },
     "execution_count": 9,
     "metadata": {},
     "output_type": "execute_result"
    }
   ],
   "source": [
    "def square(x):\n",
    "  return x ** 2\n",
    "\n",
    "def multiply(a, b):\n",
    "  return a * b\n",
    "\n",
    "# Functions can be composed.\n",
    "square(multiply(3, 2))"
   ]
  },
  {
   "cell_type": "code",
   "execution_count": 10,
   "id": "4b351ac7-73bc-4077-86c9-62ec3e641203",
   "metadata": {},
   "outputs": [
    {
     "name": "stdout",
     "output_type": "stream",
     "text": [
      " (25, 625)\n"
     ]
    }
   ],
   "source": [
    "def multi_values(x):\n",
    "    y=x ** 2\n",
    "    z=y ** 2\n",
    "    \n",
    "    return y,z  # you can return multiple values in python\n",
    "\n",
    "b=multi_values(5)\n",
    "print(' {}'.format(b))"
   ]
  },
  {
   "cell_type": "markdown",
   "id": "e257786a-23b1-453e-ba47-1a0fd5c34f32",
   "metadata": {},
   "source": [
    "## Task 1\n",
    "Write a function factorial(n) that returns the factorial & number(n) both. Test it with various values if the function is called without a value then it should take 5 as default argument.\n",
    "\n"
   ]
  },
  {
   "cell_type": "code",
   "execution_count": 11,
   "id": "50af62ab-c760-4e6f-94bc-431a8b356c58",
   "metadata": {},
   "outputs": [
    {
     "name": "stdout",
     "output_type": "stream",
     "text": [
      "Enter a number 5\n"
     ]
    },
    {
     "data": {
      "text/plain": [
       "int"
      ]
     },
     "execution_count": 11,
     "metadata": {},
     "output_type": "execute_result"
    }
   ],
   "source": [
    "x =  int(input(\"Enter a number\"))\n",
    "type(x)"
   ]
  },
  {
   "cell_type": "markdown",
   "id": "09501a82-4581-41ce-96ef-58d3103201c2",
   "metadata": {},
   "source": [
    "## Lists\n",
    "A list is a collection of values enclosed in square brackets []. It can hold elements of different types.\n",
    "\n",
    "### List Characteristics:\n",
    "\n",
    "* Lists are ordered collections.\n",
    "* Lists are mutable (can be changed after creation).\n",
    "* Lists can contain duplicate elements."
   ]
  },
  {
   "cell_type": "code",
   "execution_count": 12,
   "id": "124a0371-7ea4-4ce3-bdcb-7b99b3987a71",
   "metadata": {},
   "outputs": [
    {
     "name": "stdout",
     "output_type": "stream",
     "text": [
      "[1, 2, 3, 'apple', 'banana']\n",
      "apple\n",
      "[3, 'apple', 'banana']\n"
     ]
    }
   ],
   "source": [
    "my_list = [1, 2, 3, 'apple', 'banana'] # creating a list\n",
    "\n",
    "print(my_list) #print a list\n",
    "print(my_list[3]) # print values from index 3 \n",
    "print(my_list[2:5]) # print values from index 2 to 5 (5 exclusive)"
   ]
  },
  {
   "cell_type": "code",
   "execution_count": 13,
   "id": "0967240f-e296-486e-b7f0-c816ec5149c2",
   "metadata": {},
   "outputs": [
    {
     "name": "stdout",
     "output_type": "stream",
     "text": [
      "1\n",
      "2\n",
      "3\n",
      "apple\n",
      "banana\n"
     ]
    }
   ],
   "source": [
    "for i in my_list: # iterate list by loop\n",
    "    print(i)"
   ]
  },
  {
   "cell_type": "markdown",
   "id": "e4171632-81e9-4499-85c2-3eb4adde3ff0",
   "metadata": {},
   "source": [
    "## Learn the following syntax"
   ]
  },
  {
   "cell_type": "code",
   "execution_count": 14,
   "id": "39da5b7f-5161-4831-b188-8314c81421af",
   "metadata": {},
   "outputs": [
    {
     "name": "stdout",
     "output_type": "stream",
     "text": [
      "1\n",
      "2\n",
      "3\n",
      "4\n",
      "5\n"
     ]
    }
   ],
   "source": [
    "numbers = [1, 2, 3, 4, 5]\n",
    "for x in numbers:\n",
    "    print(x)"
   ]
  },
  {
   "cell_type": "markdown",
   "id": "7e058d7e-2cbe-4d92-8404-6c8b5b296d71",
   "metadata": {},
   "source": [
    "### List Comprehension "
   ]
  },
  {
   "cell_type": "code",
   "execution_count": 15,
   "id": "d02bb770-cbd9-4031-bf61-c61aacbcd1d1",
   "metadata": {},
   "outputs": [
    {
     "name": "stdout",
     "output_type": "stream",
     "text": [
      "[1, 4, 9, 16, 25]\n"
     ]
    }
   ],
   "source": [
    "numbers = [1, 2, 3, 4, 5]\n",
    "squared = [x**2 for x in numbers]\n",
    "print(squared)          # Output: [1, 4, 9, 16, 25]"
   ]
  },
  {
   "cell_type": "code",
   "execution_count": 16,
   "id": "fe6a7565-d3d0-46db-b7dd-b77a86f160e7",
   "metadata": {},
   "outputs": [
    {
     "data": {
      "text/plain": [
       "['Rehan', 'Ahmed']"
      ]
     },
     "execution_count": 16,
     "metadata": {},
     "output_type": "execute_result"
    }
   ],
   "source": [
    "names = [\"Moiz\",\"Rehan\",\"Mansoor\",\"Ahmed\"]\n",
    "fiveCharacterNames = [name for name in names if len(name)==5]\n",
    "fiveCharacterNames"
   ]
  },
  {
   "cell_type": "markdown",
   "id": "dd2c03df-00f3-4e57-9f29-1381cd5b90a4",
   "metadata": {},
   "source": [
    "### Task\n",
    "using list comprehension make another list \"longNames\" that contains all those names having length > 5"
   ]
  },
  {
   "cell_type": "code",
   "execution_count": null,
   "id": "85e3d443-05e3-46e4-8c84-6d890ea0ef7f",
   "metadata": {},
   "outputs": [],
   "source": []
  },
  {
   "cell_type": "markdown",
   "id": "552425c8-805f-4037-a0df-dbe5fc20c856",
   "metadata": {},
   "source": [
    "### Task\n",
    "In this list comprehension exercise you will practice using list comprehension to filter out the even numbers from a series of numbers.   \n",
    "First, use list comprehension to convert the list_of_strings to a list of integers called numbers.   \n",
    "Then use list comprehension again to create a new list called result.\n",
    "This new list should only contain the even numbers from the list numbers. \n",
    "use Python's List Comprehension instead of a Loop. \n",
    "\n",
    "Numbers: [1, 2, 3, 4, 5, 6, 7, 8, 9, 10]\n",
    "Result (even numbers): [2, 4, 6, 8, 10]\n"
   ]
  },
  {
   "cell_type": "code",
   "execution_count": 3,
   "id": "a7087d62-3767-41be-a98a-e9b2272c2de0",
   "metadata": {},
   "outputs": [
    {
     "name": "stdout",
     "output_type": "stream",
     "text": [
      "[2, 4, 6, 8, 10]\n"
     ]
    }
   ],
   "source": [
    "numbers = [1,2,3,4,5,6,7,8,9,10]\n",
    "\n",
    "even = [i for i in numbers if i % 2== 0]\n",
    "\n",
    "print(even)"
   ]
  },
  {
   "cell_type": "markdown",
   "id": "b7cb3f8e-5ea0-4654-823c-b3825b4c69bd",
   "metadata": {},
   "source": [
    "## Negative Indexing of a string/list starts from -1, -2 ...."
   ]
  },
  {
   "cell_type": "code",
   "execution_count": 17,
   "id": "a3c2af94-5f9b-4c49-a04c-de2263e9b411",
   "metadata": {},
   "outputs": [
    {
     "name": "stdout",
     "output_type": "stream",
     "text": [
      "e\n",
      "d\n",
      "5\n"
     ]
    }
   ],
   "source": [
    "str = \"abcde\"\n",
    "print(str[-1])\n",
    "print(str[-2])\n",
    "\n",
    "list = [1,2,3,4,5]\n",
    "print(list[-1])"
   ]
  },
  {
   "cell_type": "markdown",
   "id": "c8b786eb-e501-4d30-9c85-485d6dbed86b",
   "metadata": {},
   "source": [
    "## Task 2\n",
    "Calculate the Mean Absolute Error (MAE) between the actual_values and predicted_values lists. \n",
    "## Hint \n",
    "Use the formula given below, where n is the number of elements in the lists. You are not allowed to use any library\n",
    "\n"
   ]
  },
  {
   "cell_type": "code",
   "execution_count": 9,
   "id": "b597d057-6f69-498a-afc1-e6c8c230e120",
   "metadata": {},
   "outputs": [
    {
     "name": "stdout",
     "output_type": "stream",
     "text": [
      "-0.2\n"
     ]
    }
   ],
   "source": [
    "# MAE = (1/n) * Σ|actual_values[i] - predicted_values[i]|\n",
    "actual_values = [23, 11, 19, 24, 17, 22, 20, 18, 25, 21]\n",
    "predicted_values = [20, 12, 18, 26, 19, 24, 21, 19, 23, 20]\n",
    "\n",
    "mean = 0\n",
    "\n",
    "for i in range(0,len(actual_values)):\n",
    "    mean = mean + actual_values[i] - predicted_values[i]\n",
    "\n",
    "mean = mean/len(actual_values)\n",
    "\n",
    "print(mean)\n"
   ]
  },
  {
   "cell_type": "markdown",
   "id": "6f2fba27-8ecc-44ec-b63e-f0f9a3c49977",
   "metadata": {},
   "source": [
    "## Task 3 (Union of two lists)\n",
    "Write a function(list1,list2) that print the union of two lists. Use of any built in library isn't allowed."
   ]
  },
  {
   "cell_type": "code",
   "execution_count": 6,
   "id": "fc57b560-0787-4454-8ba1-ce9e44aa7aa5",
   "metadata": {},
   "outputs": [],
   "source": [
    "def union(list1,list2):\n",
    "    return list1+list2\n",
    "    "
   ]
  },
  {
   "cell_type": "code",
   "execution_count": 10,
   "id": "1ee8c2ba-9400-4efa-9461-371916bcdb73",
   "metadata": {},
   "outputs": [
    {
     "name": "stdout",
     "output_type": "stream",
     "text": [
      "[1, 2, 3, 4, 5, 6, 4, 5, 6, 7, 8, 9]\n"
     ]
    }
   ],
   "source": [
    "list1 = [1, 2, 3, 4, 5, 6]\n",
    "list2 = [4, 5, 6, 7, 8, 9]\n",
    "# call the function\n",
    "output = union(list1,list2)\n",
    "\n",
    "print(output)\n",
    "# Output: [1, 2, 3, 4, 5, 6, 7, 8, 9]"
   ]
  },
  {
   "cell_type": "markdown",
   "id": "08069d80-1836-4153-a574-404b63a992a2",
   "metadata": {},
   "source": [
    "Further operations on lists are here:\n",
    "\n",
    "* append()   : Used for appending and adding elements to the end of the List. \n",
    "\n",
    "* copy()     : It returns a copy of a list.        \n",
    "\n",
    "* clear()    : This method is used for removing all items from the list.   \n",
    "\n",
    "* count()    : These methods count the elements.                            \n",
    "\n",
    "* extend()   : Adds each element of the iterable to the end of the List.     \n",
    "\n",
    "* index()    : Returns the lowest index where the element appears.           \n",
    "\n",
    "* insert()   : Inserts a given element at a given index in a list.          \n",
    "\n",
    "* pop()      : Removes and returns the last value from the List or the given index value. \n",
    "\n",
    "* remove()   : Removes a given object from the List.                        \n",
    "\n",
    "* reverse()  : Reverses objects of the List in place.                       \n",
    "\n",
    "* sort()     : Sort a List in ascending, descending, or user-defined order. \n",
    "\n",
    "* min()      : Calculates the minimum of all the elements of the List.      \n",
    "\n",
    "* max()      : Calculates the maximum of all the elements of the List.      "
   ]
  },
  {
   "cell_type": "markdown",
   "id": "20fb810d-a488-45ae-bc22-9552e8de00af",
   "metadata": {},
   "source": [
    "## 2D Lists\n",
    "## Task 3 (Find Pairs in Matrix)\n",
    "Task is to implement findPairsWithSum(int targetValue) method to display pairs (with in a matrix) that sum to a given target value. Please look at the following example to understand the question. Please note that there is no repetition.\n",
    "\n"
   ]
  },
  {
   "cell_type": "markdown",
   "id": "5db9d878-c126-4657-8ebc-5b2c92675e2c",
   "metadata": {},
   "source": [
    "## Important\n",
    "You are NOT allowed to make a temporary array, it means don’t copy matrix items in a 1D or any temporary storage, then make & print the combinations easily. Don’t even think about that. Make combinations by traversing a matrix using nested loop(s)."
   ]
  },
  {
   "cell_type": "code",
   "execution_count": 21,
   "id": "5a262f01-b148-4972-9b28-fe4f3624a7d3",
   "metadata": {},
   "outputs": [],
   "source": [
    "# Initliaze a matrix like following\n",
    "# 1 2 3 4\n",
    "# 5 6 7 8\n",
    "# 9 10 11 12\n",
    "# 13 14 15 16\n",
    "# Testing code for target value = 12 i.e call findPairsWithSum(int targetValue)\n",
    "# 1 and 11\n",
    "# 2 and 10\n",
    "# 3 and 9\n",
    "# 4 and 8\n",
    "# 5 and 7\n",
    "\n",
    "# YOUR CODE HERE"
   ]
  },
  {
   "cell_type": "markdown",
   "id": "43016a7b",
   "metadata": {},
   "source": [
    "## Announcement Preview\n",
    "You're developing an announcement preview tool for a messaging platform. The tool needs to provide a concise preview of longer messages.\n",
    "\n",
    "### Task 4:\n",
    "Given a message: \"Join us for the webinar on Aug 30, 2023, 2:00 PM (GMT)\", perform the following tasks:\n",
    "\n",
    "* Calculate the length of the message.\n",
    "* Replace the word \"webinar\" with \"online session\".\n",
    "* Extract the date \"Aug 30, 2023\".\n",
    "* Create a shortened preview containing only the first 40 characters.\n",
    "* Extract time.\n",
    "\n",
    "Print all the results"
   ]
  },
  {
   "cell_type": "code",
   "execution_count": 22,
   "id": "bfdd57b1",
   "metadata": {},
   "outputs": [],
   "source": [
    "# YOUR CODE HERE\n"
   ]
  },
  {
   "cell_type": "markdown",
   "id": "86e05828",
   "metadata": {},
   "source": [
    "## Fitness Progress Tracker\n",
    "You're developing a fitness progress tracker that records different exercises performed each day.\n",
    "\n",
    "### Task 5:\n",
    "Given exercise logs: ['Running', 'Push-ups', 'Yoga', 'Swimming'], perform the following tasks:\n",
    "\n",
    "* Create an empty log for cardio exercises.\n",
    "* Append 'Cycling' to the cardio log.\n",
    "* Insert 'Plank' as the second exercise in the log.\n",
    "* Extract the exercise 'Yoga' from the list.\n",
    "* Create a brief cardio log containing only the first two exercises.\n",
    "* Extract all items from list\n",
    "* Extract  all items except first and last from list\n",
    "\n",
    "Print all the results."
   ]
  },
  {
   "cell_type": "code",
   "execution_count": 23,
   "id": "ceba0471",
   "metadata": {},
   "outputs": [],
   "source": [
    "# YOUR CODE HERE\n"
   ]
  },
  {
   "cell_type": "markdown",
   "id": "8f269d9d-879e-4241-8326-672e1e7800ed",
   "metadata": {},
   "source": [
    "## TASK 6 \n",
    "\n",
    "You are given a 2 lists list1 = ['a','b','c','d'] and list2 = [1,2,3,4]. Use these lists to create a dictionary such that the items \n",
    "in list1 are the keys and the items in list2 are the value in the new dictionary. \n"
   ]
  },
  {
   "cell_type": "code",
   "execution_count": 24,
   "id": "e9cae38b-ac6e-425b-acec-b47d49ab4645",
   "metadata": {},
   "outputs": [],
   "source": [
    "# YOUR CODE HERE"
   ]
  },
  {
   "cell_type": "markdown",
   "id": "9a846722-f4b9-4d51-a061-362075d644ce",
   "metadata": {},
   "source": [
    "## TASK 7\n",
    "\n",
    "You are given a dictionary student_info where student IDs are keys, and their names, ages,\n",
    "and GPAs are values. Write a function print_ages that takes this dictionary as input and prints\n",
    "the ages of all students along with their corresponding IDs.\n",
    "Dictionary will look like this:\n",
    "\n",
    "## students = {\n",
    "## 101: {\"name\": \"Alice\", \"age\": 20, \"gpa\": 3.5},\n",
    "## 102: {\"name\": \"Bob\", \"age\": 21, \"gpa\": 3.8},\n",
    "## 103: {\"name\": \"Charlie\", \"age\": 19, \"gpa\": 3.2}\n",
    "## }"
   ]
  },
  {
   "cell_type": "code",
   "execution_count": 3,
   "id": "cbb21aa7-0a99-4395-8f60-8a171398be93",
   "metadata": {},
   "outputs": [],
   "source": []
  },
  {
   "cell_type": "markdown",
   "id": "2fadfaae",
   "metadata": {},
   "source": [
    "## TASK-8\n",
    "Given a string s consisting of words and spaces, return the length of the last word in the string.\n"
   ]
  },
  {
   "cell_type": "code",
   "execution_count": 25,
   "id": "5a927e70-3466-4969-840c-68e1f8e925b3",
   "metadata": {},
   "outputs": [],
   "source": [
    "# Your Code Here"
   ]
  },
  {
   "cell_type": "code",
   "execution_count": null,
   "id": "932cb657-007a-4cc2-90c9-5b61cee07145",
   "metadata": {},
   "outputs": [],
   "source": []
  },
  {
   "cell_type": "code",
   "execution_count": null,
   "id": "acffe588-5b8c-4307-b512-75aa52cf7910",
   "metadata": {},
   "outputs": [],
   "source": []
  }
 ],
 "metadata": {
  "kernelspec": {
   "display_name": "Python 3",
   "language": "python",
   "name": "python3"
  },
  "language_info": {
   "codemirror_mode": {
    "name": "ipython",
    "version": 3
   },
   "file_extension": ".py",
   "mimetype": "text/x-python",
   "name": "python",
   "nbconvert_exporter": "python",
   "pygments_lexer": "ipython3",
   "version": "3.13.1"
  }
 },
 "nbformat": 4,
 "nbformat_minor": 5
}
