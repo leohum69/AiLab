{
 "cells": [
  {
   "cell_type": "markdown",
   "id": "4e453ca7",
   "metadata": {},
   "source": [
    "## Lab 8 - Global Search Algorithms"
   ]
  },
  {
   "cell_type": "markdown",
   "id": "53800bf6",
   "metadata": {},
   "source": [
    "### Simulated Annealing\n",
    "Simulated annealing is a probabilistic algorithm which tests points across a solution space to find the lowest minima. The algorithm is termed “simulated annealing” because it mirrors physical annealing, a process in which a material is repeatedly heated and cooled to elicit desired structural properties."
   ]
  },
  {
   "cell_type": "markdown",
   "id": "73c2c707",
   "metadata": {},
   "source": [
    "### Understanding Simulated Annealing\n",
    "Imagine you're trying to find the highest point on a bumpy landscape, but you can only see the area around you. You start randomly, moving around, trying to climb higher. Simulated Annealing works a bit like this.\n",
    "\n",
    "<b>Start somewhere:</b> You begin at a random point on the landscape.\n",
    "\n",
    "<b>Explore:</b> You look around and take a step in a random direction, maybe up or maybe down. This step could be small or big.\n",
    "\n",
    "<b>Evaluate:</b> You see if this step makes you higher up or not. If it's higher, you keep going in that direction. If it's lower, sometimes you still go that way, but sometimes you might turn back. This decision is based on some randomness and a special formula.\n",
    "\n",
    "<b>Repeat:</b> You keep doing steps 2 and 3 many times, gradually reducing how much you explore (like cooling metal slowly in the real annealing process), until you hopefully find the highest point you can.\n",
    "\n",
    "<b>The clever part is that sometimes, even if you're going downhill a bit, you might still do it because it could lead to an even higher peak later on.</b> Simulated Annealing balances between exploring new areas (even if they seem worse) and exploiting the areas that seem better. This helps in finding the best solution, especially in complex problems where there's no straightforward way to tell which step is the best."
   ]
  },
  {
   "cell_type": "markdown",
   "id": "17c4630f",
   "metadata": {},
   "source": [
    "### Algorithm\n",
    "\n",
    "<b>Initialize Parameters:</b>\n",
    "<ul>\n",
    "<li>Set the initial temperature.</li>\n",
    "<li>Choose a cooling rate (how fast the temperature decreases).</li>\n",
    "<li>Define the number of iterations or a stopping criterion.</li>\n",
    "</ul>\n",
    "\n",
    "<b>Generate Initial Solution:</b>\n",
    "<ul>\n",
    "<li>Start with any random solution to the problem.</li>\n",
    "    \n",
    "   </ul>\n",
    "<b>Evaluate Initial Solution:</b>\n",
    "<ul>\n",
    "<li>\n",
    "Calculate how good or bad the initial solution is.</li>\n",
    "    </ul>\n",
    "    \n",
    "<b>Iterate:</b>\n",
    "Repeat the following steps until the stopping criterion is met:\n",
    "<ul>\n",
    "\n",
    " \n",
    "<li><b>Generate Neighbor Solution:</b></li>\n",
    "<li>Make a small change to the current solution to get a neighboring solution.</li>\n",
    "<li><b>Evaluate Neighbor Solution:</b></li>\n",
    "<li>See if the neighboring solution is better or worse than the current one.</li>\n",
    "<li><b>Accept or Reject Neighbor Solution:</b></li>\n",
    "<li>If the neighboring solution is better, always accept it.</li>\n",
    "<li>If the neighboring solution is worse, sometimes accept it based on a probability.</li>\n",
    "<li><b>Update Temperature:</b></li>\n",
    "<li>Gradually reduce the temperature according to the cooling rate.</li>\n",
    "</ul>\n",
    "<b>Output:</b>\n",
    "\n",
    "Return the best solution found during the iterations."
   ]
  },
  {
   "cell_type": "markdown",
   "id": "0a469048",
   "metadata": {},
   "source": [
    "## Task\n",
    "In this scenario, we aim to solve the Travelling Salesman Problem (TSP) using the Simulated Annealing algorithm. The goal is to find the optimal tour that visits all cities exactly once while minimizing the total distance traveled."
   ]
  },
  {
   "cell_type": "code",
   "execution_count": null,
   "id": "8ef689ba",
   "metadata": {},
   "outputs": [
    {
     "name": "stdout",
     "output_type": "stream",
     "text": [
      "Optimal Tour: 125\n",
      "Optimal Distance: [0, 2, 3, 1, 4]\n"
     ]
    }
   ],
   "source": [
    "import math\n",
    "import random\n",
    "import copy\n",
    "\n",
    "# Function to calculate the total distance of a tour\n",
    "def total_distance(tour, graph):\n",
    "    start = tour[0]\n",
    "    cost = 0\n",
    "    for i in range(0,len(tour)):\n",
    "        cost += graph[tour[i-1]][tour[i]]\n",
    "\n",
    "    return cost\n",
    "\n",
    "# Function to generate a random initial tour\n",
    "def initial_tour(num_cities):\n",
    "    new_tour = [i for i in range(0,num_cities)]\n",
    "    random.shuffle(new_tour)\n",
    "    return new_tour\n",
    "\n",
    "\n",
    "# Function to perform simulated annealing algorithm\n",
    "def simulated_annealing(graph, city_names, initial_temperature=1000, cooling_rate=0.95, iterations=500):\n",
    "    \n",
    "    cur = initial_tour(len(graph))\n",
    "    cur_dist = total_distance(cur,graph)\n",
    "\n",
    "    new_arr = copy.deepcopy(cur)\n",
    "    new_dist = cur_dist\n",
    "\n",
    "    temp = initial_temperature\n",
    "\n",
    "    for i in range(iterations):\n",
    "        pehla = random.randrange(0,5)\n",
    "        dusra = random.randrange(0,5)\n",
    "\n",
    "        new_arr[pehla],new_arr[dusra] = new_arr[dusra],new_arr[pehla]\n",
    "\n",
    "        newnewdist = total_distance(new_arr,graph)\n",
    "\n",
    "        if newnewdist < new_dist and random.random()<math.exp((new_dist-newnewdist)/temp):\n",
    "            new_dist = newnewdist\n",
    "\n",
    "            if new_dist < cur_dist:\n",
    "                cur_dist = new_dist\n",
    "                cur = copy.deepcopy(new_arr)\n",
    "        \n",
    "        temp = temp * cooling_rate\n",
    "\n",
    "    \n",
    "    return cur_dist,cur\n",
    "\n",
    "    \n",
    "       \n",
    "\n",
    "# Provided graph with distances and city names\n",
    "city_names = [\"City A\", \"City B\", \"City C\", \"City D\", \"City E\"]\n",
    "graph = [\n",
    "    [0, 10, 15, 20, 25],   # Distances from City A to other cities\n",
    "    [10, 0, 35, 25, 30],   # Distances from City B to other cities\n",
    "    [15, 35, 0, 30, 45],   # Distances from City C to other cities\n",
    "    [20, 25, 30, 0, 55],   # Distances from City D to other cities\n",
    "    [25, 30, 45, 55, 0]    # Distances from City E to other cities\n",
    "]\n",
    "\n",
    "# Perform simulated annealing algorithm to find the optimal tour\n",
    "optimal_tour, optimal_distance = simulated_annealing(graph, city_names)\n",
    "\n",
    "# Output the optimal tour and distance\n",
    "print(\"Optimal Tour:\", optimal_tour)\n",
    "print(\"Optimal Distance:\", optimal_distance)\n",
    "\n",
    "# lol = [1,2,3,4,5]\n",
    "\n",
    "# lol2 = copy.deepcopy(lol)\n",
    "\n",
    "# lol2[0] = 5\n",
    "\n",
    "# print(lol)\n",
    "# print(lol2)\n",
    "\n",
    "\n"
   ]
  }
 ],
 "metadata": {
  "kernelspec": {
   "display_name": "Python 3",
   "language": "python",
   "name": "python3"
  },
  "language_info": {
   "codemirror_mode": {
    "name": "ipython",
    "version": 3
   },
   "file_extension": ".py",
   "mimetype": "text/x-python",
   "name": "python",
   "nbconvert_exporter": "python",
   "pygments_lexer": "ipython3",
   "version": "3.13.1"
  }
 },
 "nbformat": 4,
 "nbformat_minor": 5
}
