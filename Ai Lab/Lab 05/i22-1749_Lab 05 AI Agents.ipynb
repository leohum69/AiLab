{
 "cells": [
  {
   "cell_type": "markdown",
   "id": "ad06dcb0-6284-49b0-a778-58ecf37f28fa",
   "metadata": {},
   "source": [
    "# Artificial Intelligence Lab 4"
   ]
  },
  {
   "cell_type": "markdown",
   "id": "73004c35-8cec-4599-ab9a-219a8bca180c",
   "metadata": {},
   "source": [
    "### **TASK 1: AI Agent Task**"
   ]
  },
  {
   "cell_type": "markdown",
   "id": "f2e68446-362a-4f6d-ae81-0937d662d78d",
   "metadata": {},
   "source": [
    "**AI Lab Task: Intrusion Detection AI Agent**\n",
    "\n",
    "**Objective:**\n",
    "In this task, students will implement a **Simple Reflex AI Agent** to monitor network traffic and detect potential intrusions. The agent will perceive traffic data, classify it as normal or suspicious, and take appropriate actions based on predefined rules.\n",
    "\n",
    "\n",
    "**Task Description:**\n",
    "You are tasked with designing and implementing an **Intrusion Detection AI Agent** that can analyze network traffic for signs of potential cyber threats. Your agent will:\n",
    "1. **Perceive** network traffic data (e.g., request rate, anomalies, source IPs, packet size, and protocol type).\n",
    "2. **Classify** traffic as \"normal\" or \"suspicious\" based on predefined rules.\n",
    "3. **Take action** by logging alerts for suspicious traffic.\n",
    "4. **Simulate traffic data** for testing your agent.\n",
    "\n",
    "\n",
    "#### **Step 1: Define the Agent Class**\n",
    "- Create a Python class `IntrusionDetectionAgent`.\n",
    "\n",
    "- Implement a `perceive()` method that analyzes network traffic attributes:\n",
    "  - **Source IP Address**: The IP address of the incoming connection.\n",
    "  - **Request Rate**: The number of requests per second from a given source.\n",
    "  - **Anomalies Count**: A count of unusual behaviors detected (e.g., repeated failed login attempts, unusual access times).\n",
    "  - **Packet Size**: The size of data packets being transmitted.\n",
    "  - **Protocol Type**: The type of protocol used (e.g., TCP, UDP, ICMP).\n",
    "\n",
    "- Implement an `act()` method that generates alerts when suspicious activity is detected.\n",
    "\n",
    "#### **Step 2: Generate Simulated Traffic Data**\n",
    "- Create a function to simulate network traffic.\n",
    "- Each traffic sample should include:\n",
    "  - **Source IP Address** (randomized IPs)\n",
    "  - **Request Rate** (random values within a realistic range of 10 to 200 requests per second)\n",
    "  - **Anomalies Count** (randomized values indicating unusual behavior between 0 to 10)\n",
    "  - **Packet Size** (random values between 100 to 5000 bytes)\n",
    "  - **Protocol Type** (randomly selected from TCP, UDP, ICMP)\n",
    "\n",
    "#### **Step 3: Implement Intrusion Detection Logic**\n",
    "- Define a threshold for detecting suspicious traffic:\n",
    "  - If `request_rate > 100`, classify as **suspicious**.\n",
    "  - If `anomalies > 5`, classify as **suspicious**.\n",
    "  - If `packet_size > 4000`, classify as **suspicious**.\n",
    "  - If the **protocol type is ICMP** with a high request rate, classify as **potential DDoS attack**.\n",
    "- Store alerts for suspicious traffic.\n",
    "\n",
    "#### **Step 4: Test the Agent**\n",
    "- Run your agent on generated traffic data.\n",
    "- Observe whether it correctly detects suspicious activity.\n",
    "- Print or log alerts for review.\n",
    "\n",
    "### **Example Output:**\n",
    "```\n",
    "Traffic from 192.168.1.45 is normal.\n",
    "ALERT! Suspicious activity detected from 192.168.1.88 - High Request Rate\n",
    "Traffic from 192.168.1.12 is normal.\n",
    "ALERT! Suspicious activity detected from 192.168.1.150 - Large Packet Size\n",
    "ALERT! Potential DDoS attack detected from 192.168.1.200 - High ICMP traffic\n",
    "```\n"
   ]
  },
  {
   "cell_type": "code",
   "execution_count": 1,
   "id": "a8e82619",
   "metadata": {},
   "outputs": [
    {
     "name": "stdout",
     "output_type": "stream",
     "text": [
      "ALERT: Suspicious Activity detected from IP 192.168.1.192\n",
      "ALERT: Suspicious Activity detected from IP 192.168.1.222\n",
      "ALERT: Suspicious Activity detected from IP 192.168.1.116\n",
      "ALERT: Suspicious Activity detected from IP 192.168.1.203\n",
      "ALERT: Suspicious Activity detected from IP 192.168.1.87\n"
     ]
    }
   ],
   "source": [
    "import random\n",
    "\n",
    "class IDSAgent:\n",
    "    def __init__(self, ip='', rate=0, anomaly_count=0, packet_size=0, protocol=''):\n",
    "        self.ip = ip\n",
    "        self.rate = rate\n",
    "        self.anomaly_count = anomaly_count\n",
    "        self.packet_size = packet_size\n",
    "        self.protocol = protocol\n",
    "\n",
    "    def receive_data(self, ip, rate, anomaly_count, packet_size, protocol):\n",
    "        self.ip = ip\n",
    "        self.rate = rate\n",
    "        self.anomaly_count = anomaly_count\n",
    "        self.packet_size = packet_size\n",
    "        self.protocol = protocol\n",
    "\n",
    "    def analyze(self):\n",
    "        if self.rate > 1000 or self.anomaly_count > 5 or self.packet_size > 4000:\n",
    "            return \"Suspicious Activity\"\n",
    "        return \"Normal Traffic\"\n",
    "\n",
    "    def respond(self):\n",
    "        status = self.analyze()\n",
    "        if status == \"Suspicious Activity\":\n",
    "            print(f\"ALERT: {status} detected from IP {self.ip}\")\n",
    "        else:\n",
    "            print(\"Traffic is Normal\")\n",
    "\n",
    "def run_simulation():\n",
    "    detector = IDSAgent()\n",
    "    for _ in range(5):\n",
    "        detector.receive_data(\n",
    "            f'192.168.1.{random.randint(1, 255)}',\n",
    "            random.randint(100, 2000),\n",
    "            random.randint(200, 300),\n",
    "            random.randint(10, 50),\n",
    "            'TCP'\n",
    "        )\n",
    "        detector.respond()\n",
    "\n",
    "run_simulation()\n"
   ]
  }
 ],
 "metadata": {
  "kernelspec": {
   "display_name": "Python 3",
   "language": "python",
   "name": "python3"
  },
  "language_info": {
   "codemirror_mode": {
    "name": "ipython",
    "version": 3
   },
   "file_extension": ".py",
   "mimetype": "text/x-python",
   "name": "python",
   "nbconvert_exporter": "python",
   "pygments_lexer": "ipython3",
   "version": "3.13.1"
  }
 },
 "nbformat": 4,
 "nbformat_minor": 5
}
