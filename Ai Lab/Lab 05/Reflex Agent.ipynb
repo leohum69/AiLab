{
 "cells": [
  {
   "cell_type": "markdown",
   "id": "49749387-f947-4eb8-a77a-443cfb3cfb0f",
   "metadata": {},
   "source": [
    "## Classes"
   ]
  },
  {
   "cell_type": "markdown",
   "id": "f547426d-d94f-4acb-b1e0-e82f9a281bfa",
   "metadata": {},
   "source": [
    "Classes are the key features of object-oriented programming. A class is a structure for representing an object and the operations that can be performed on the object. \n",
    "\n",
    "In Python a class can contain *attributes* (variables) and *methods* (functions).\n",
    "\n",
    "A class is defined almost like a function, but using the `class` keyword, and the class definition usually contains a number of class method definitions (a function in a class).\n",
    "\n",
    "* Each class method should have an argument `self` as its first argument. This object is a self-reference.\n",
    "\n",
    "* Some class method names have special meaning, for example:\n",
    "\n",
    "    * `__init__`: The name of the method that is invoked when the object is first created.\n",
    "    * `__str__` : A method that is invoked when a simple string representation of the class is needed, as for example when printed.\n",
    "    * There are many more, see http://docs.python.org/2/reference/datamodel.html#special-method-names"
   ]
  },
  {
   "cell_type": "code",
   "execution_count": 2,
   "id": "9656f8cd-a4b4-4cad-98d6-d9db72d1fefd",
   "metadata": {},
   "outputs": [],
   "source": [
    "class Point:\n",
    "    \"\"\"\n",
    "    Simple class for representing a point in a Cartesian coordinate system.\n",
    "    \"\"\"\n",
    "    \n",
    "    def __init__(self, x, y):\n",
    "        \"\"\"\n",
    "        Create a new Point at x, y.\n",
    "        \"\"\"\n",
    "        self.x = x\n",
    "        self.y = y\n",
    "        \n",
    "    def translate(self, dx, dy):\n",
    "        \"\"\"\n",
    "        Translate the point by dx and dy in the x and y direction.\n",
    "        \"\"\"\n",
    "        self.x += dx\n",
    "        self.y += dy\n",
    "        \n",
    "    def __str__(self):\n",
    "        return(\"Point at [%f, %f]\" % (self.x, self.y))"
   ]
  },
  {
   "cell_type": "code",
   "execution_count": 3,
   "id": "575f0d74-396e-4249-84ca-57c31fdd624b",
   "metadata": {},
   "outputs": [
    {
     "name": "stdout",
     "output_type": "stream",
     "text": [
      "Point at [0.000000, 0.000000]\n"
     ]
    }
   ],
   "source": [
    "p1 = Point(0, 0) # this will invoke the __init__ method in the Point class\n",
    "\n",
    "print (p1)         # this will invoke the __str__ method"
   ]
  },
  {
   "cell_type": "code",
   "execution_count": 3,
   "id": "84251e90-5f99-40f9-86ef-369fb8edc109",
   "metadata": {},
   "outputs": [
    {
     "name": "stdout",
     "output_type": "stream",
     "text": [
      "Point at [0.250000, 1.500000]\n",
      "Point at [1.000000, 1.000000]\n"
     ]
    }
   ],
   "source": [
    "p2 = Point(1, 1)\n",
    "\n",
    "p1.translate(0.25, 1.5)\n",
    "\n",
    "print (p1)\n",
    "print (p2)"
   ]
  },
  {
   "cell_type": "markdown",
   "id": "9d231e16-8662-4693-b72e-fb76fe97e6fe",
   "metadata": {},
   "source": [
    "### For more info about Object Oriented Programming in Python Visit : https://www.geeksforgeeks.org/python-oops-concepts/"
   ]
  },
  {
   "cell_type": "markdown",
   "id": "1017064b",
   "metadata": {},
   "source": [
    "### Simple Reflex agent:\n",
    "Design an reflex agent in Python to simulate room-cleaning behavior, now capable of moving both right and left within the environment. Your task is to implement this improved reflex agent and demonstrate its functionality in a simulated environment.\n",
    "\n",
    "Your code should include:\n",
    "\n",
    "A SimpleReflexAgent class with methods for perceiving the environment, cleaning dirty locations, and moving both right and left.\n",
    "A simulate_environment function to simulate the agent's actions in the environment.\n",
    "Demonstrative functionality showcasing the agent's behavior in response to the cleanliness of locations and its ability to move within the environment.\n",
    "Write the code and provide a sample output demonstrating the agent's behavior in a predefined environment."
   ]
  },
  {
   "cell_type": "code",
   "execution_count": null,
   "id": "3dcf308a",
   "metadata": {},
   "outputs": [],
   "source": []
  },
  {
   "cell_type": "code",
   "execution_count": 2,
   "id": "58feb9b3",
   "metadata": {},
   "outputs": [
    {
     "name": "stdout",
     "output_type": "stream",
     "text": [
      "Cleaning the floor at location A\n",
      "Moving right from location B\n",
      "Cleaning the floor at location C\n"
     ]
    }
   ],
   "source": [
    "class SimpleReflexAgent:\n",
    "    def __init__(self):\n",
    "        self.location = None\n",
    "\n",
    "    def perceive(self, location, dirty):\n",
    "        self.location = location\n",
    "        if dirty:\n",
    "            return \"dirty\"\n",
    "        else:\n",
    "            return \"clean\"\n",
    "\n",
    "    def clean(self):\n",
    "        print(\"Cleaning the floor at location\", self.location)\n",
    "\n",
    "    def move_right(self):\n",
    "        print(\"Moving right from location\", self.location)\n",
    "        # Implement logic to move the agent right\n",
    "\n",
    "    def move_left(self):\n",
    "        print(\"Moving left from location\", self.location)\n",
    "        # Implement logic to move the agent left\n",
    "\n",
    "def simulate_environment(agent, environment):\n",
    "    for location, dirty in environment.items():\n",
    "        perception = agent.perceive(location, dirty)\n",
    "        if perception == \"dirty\":\n",
    "            agent.clean()\n",
    "        # Example: Move right if the location is clean and not at the last position\n",
    "        elif location != 'C':\n",
    "            agent.move_right()\n",
    "\n",
    "# Sample environment setup\n",
    "environment = {\n",
    "    \"A\": True,  # Location A is dirty\n",
    "    \"B\": False, # Location B is clean\n",
    "    \"C\": True   # Location C is dirty\n",
    "}\n",
    "\n",
    "# Instantiate the agent\n",
    "agent = SimpleReflexAgent()\n",
    "\n",
    "# Simulate the environment\n",
    "simulate_environment(agent, environment)\n"
   ]
  },
  {
   "cell_type": "code",
   "execution_count": null,
   "id": "ea509570",
   "metadata": {},
   "outputs": [],
   "source": []
  }
 ],
 "metadata": {
  "kernelspec": {
   "display_name": "Python 3",
   "language": "python",
   "name": "python3"
  },
  "language_info": {
   "codemirror_mode": {
    "name": "ipython",
    "version": 3
   },
   "file_extension": ".py",
   "mimetype": "text/x-python",
   "name": "python",
   "nbconvert_exporter": "python",
   "pygments_lexer": "ipython3",
   "version": "3.13.1"
  }
 },
 "nbformat": 4,
 "nbformat_minor": 5
}
